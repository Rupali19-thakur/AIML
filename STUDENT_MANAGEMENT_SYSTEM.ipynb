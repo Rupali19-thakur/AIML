{
  "nbformat": 4,
  "nbformat_minor": 0,
  "metadata": {
    "colab": {
      "provenance": [],
      "authorship_tag": "ABX9TyNipXB1dfUTqCxuUCTj1w7V",
      "include_colab_link": true
    },
    "kernelspec": {
      "name": "python3",
      "display_name": "Python 3"
    },
    "language_info": {
      "name": "python"
    }
  },
  "cells": [
    {
      "cell_type": "markdown",
      "metadata": {
        "id": "view-in-github",
        "colab_type": "text"
      },
      "source": [
        "<a href=\"https://colab.research.google.com/github/Rupali19-thakur/AIML/blob/main/STUDENT_MANAGEMENT_SYSTEM.ipynb\" target=\"_parent\"><img src=\"https://colab.research.google.com/assets/colab-badge.svg\" alt=\"Open In Colab\"/></a>"
      ]
    },
    {
      "cell_type": "code",
      "source": [
        "class Student:\n",
        "    def __init__(self, student_id, name, grade):\n",
        "        self.student_id = student_id\n",
        "        self.name = name\n",
        "        self.grade = grade\n",
        "        self.attendance = 0\n",
        "\n",
        "    def mark_attendance(self):\n",
        "        self.attendance += 1\n",
        "\n",
        "    def update_grade(self, new_grade):\n",
        "        self.grade = new_grade\n",
        "\n",
        "    def __str__(self):\n",
        "        return f\"ID: {self.student_id}, Name: {self.name}, Grade: {self.grade}, Attendance: {self.attendance}\"\n",
        "\n",
        "\n",
        "class Educator:\n",
        "    def __init__(self, name):\n",
        "        self.name = name\n",
        "        self.announcements = []\n",
        "\n",
        "    def send_announcement(self, message):\n",
        "        self.announcements.append(message)\n",
        "        print(f\"Announcement sent: {message}\")\n",
        "\n",
        "    def view_announcements(self):\n",
        "        print(\"\\nAll Announcements:\")\n",
        "        for msg in self.announcements:\n",
        "            print(f\"- {msg}\")\n",
        "\n",
        "\n",
        "class StudentManagementSystem:\n",
        "    def __init__(self):\n",
        "        self.students = {}\n",
        "        self.educator = Educator(\"Teacher\")\n",
        "\n",
        "    def enroll_student(self, student_id, name, grade):\n",
        "        if student_id not in self.students:\n",
        "            self.students[student_id] = Student(student_id, name, grade)\n",
        "            print(f\"{name} has been enrolled.\")\n",
        "        else:\n",
        "            print(\"Student ID already exists.\")\n",
        "\n",
        "    def mark_attendance(self, student_id):\n",
        "        if student_id in self.students:\n",
        "            self.students[student_id].mark_attendance()\n",
        "            print(f\"Attendance marked for {self.students[student_id].name}.\")\n",
        "        else:\n",
        "            print(\"Student not found.\")\n",
        "\n",
        "    def update_grade(self, student_id, grade):\n",
        "        if student_id in self.students:\n",
        "            self.students[student_id].update_grade(grade)\n",
        "            print(f\"Grade updated for {self.students[student_id].name}.\")\n",
        "        else:\n",
        "            print(\"Student not found.\")\n",
        "\n",
        "    def display_students(self):\n",
        "        print(\"\\n--- Student List ---\")\n",
        "        for student in self.students.values():\n",
        "            print(student)\n",
        "\n",
        "    def summary_report(self):\n",
        "        print(\"\\n--- Educator Summary Report ---\")\n",
        "        for student in self.students.values():\n",
        "            print(f\"{student.name} - Grade: {student.grade}, Attendance: {student.attendance}\")\n",
        "\n",
        "\n",
        "# Demo of the full system with educator interaction\n",
        "sms = StudentManagementSystem()\n",
        "\n",
        "# Enroll students\n",
        "sms.enroll_student(\"101\", \"Hemanth\", \"A\")\n",
        "sms.enroll_student(\"102\", \"Likitha\", \"B\")\n",
        "\n",
        "# Educator actions\n",
        "sms.mark_attendance(\"101\")\n",
        "sms.mark_attendance(\"102\")\n",
        "sms.update_grade(\"102\", \"A+\")\n",
        "\n",
        "# Send announcements\n",
        "sms.educator.send_announcement(\"Parent-teacher meeting on Friday.\")\n",
        "sms.educator.send_announcement(\"Submit assignments by Wednesday.\")\n",
        "\n",
        "# View data\n",
        "sms.display_students()\n",
        "sms.summary_report()\n",
        "sms.educator.view_announcements()\n"
      ],
      "metadata": {
        "colab": {
          "base_uri": "https://localhost:8080/"
        },
        "id": "3QvY_EuK4oSt",
        "outputId": "8f26dda3-9dca-4c73-c044-d298aee4efff"
      },
      "execution_count": null,
      "outputs": [
        {
          "output_type": "stream",
          "name": "stdout",
          "text": [
            "Hemanth has been enrolled.\n",
            "Likitha has been enrolled.\n",
            "Attendance marked for Hemanth.\n",
            "Attendance marked for Likitha.\n",
            "Grade updated for Likitha.\n",
            "Announcement sent: Parent-teacher meeting on Friday.\n",
            "Announcement sent: Submit assignments by Wednesday.\n",
            "\n",
            "--- Student List ---\n",
            "ID: 101, Name: Hemanth, Grade: A, Attendance: 1\n",
            "ID: 102, Name: Likitha, Grade: A+, Attendance: 1\n",
            "\n",
            "--- Educator Summary Report ---\n",
            "Hemanth - Grade: A, Attendance: 1\n",
            "Likitha - Grade: A+, Attendance: 1\n",
            "\n",
            "All Announcements:\n",
            "- Parent-teacher meeting on Friday.\n",
            "- Submit assignments by Wednesday.\n"
          ]
        }
      ]
    },
    {
      "cell_type": "code",
      "source": [
        "import random\n",
        "import string\n",
        "\n",
        "def generate_password(length=12, use_upper=True, use_lower=True, use_digits=True, use_special=True):\n",
        "    characters = \"\"\n",
        "    if use_upper:\n",
        "        characters += string.ascii_uppercase\n",
        "    if use_lower:\n",
        "        characters += string.ascii_lowercase\n",
        "    if use_digits:\n",
        "        characters += string.digits\n",
        "    if use_special:\n",
        "        characters += string.punctuation\n",
        "\n",
        "    # Fallback if nothing is selected\n",
        "    if not characters:\n",
        "        print(\"⚠️ No character type selected. Defaulting to all character types.\")\n",
        "        characters = string.ascii_letters + string.digits + string.punctuation\n",
        "\n",
        "    password = ''.join(random.choice(characters) for _ in range(length))\n",
        "    return password\n",
        "\n",
        "# User input example\n",
        "print(\"🔐 Password Generator\")\n",
        "length = int(input(\"Enter password length: \"))\n",
        "use_upper = input(\"Include uppercase letters? (y/n): \").lower() == 'y'\n",
        "use_lower = input(\"Include lowercase letters? (y/n): \").lower() == 'y'\n",
        "use_digits = input(\"Include numbers? (y/n): \").lower() == 'y'\n",
        "use_special = input(\"Include special characters? (y/n): \").lower() == 'y'\n",
        "\n",
        "password = generate_password(length, use_upper, use_lower, use_digits, use_special)\n",
        "print(f\"\\nGenerated Password: {password}\")\n"
      ],
      "metadata": {
        "colab": {
          "base_uri": "https://localhost:8080/"
        },
        "id": "_Pqx2Mgm6I8M",
        "outputId": "287ca9f5-ea3c-40f9-9920-d1c7ba0cbbbc"
      },
      "execution_count": null,
      "outputs": [
        {
          "output_type": "stream",
          "name": "stdout",
          "text": [
            "🔐 Password Generator\n",
            "Enter password length: 10\n",
            "Include uppercase letters? (y/n): ABC\n",
            "Include lowercase letters? (y/n): abc\n",
            "Include numbers? (y/n): 1223\n",
            "Include special characters? (y/n): @#\n",
            "⚠️ No character type selected. Defaulting to all character types.\n",
            "\n",
            "Generated Password: jpfx+/Wa;P\n"
          ]
        }
      ]
    }
  ]
}