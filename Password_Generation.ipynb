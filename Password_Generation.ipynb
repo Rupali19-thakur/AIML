{
  "nbformat": 4,
  "nbformat_minor": 0,
  "metadata": {
    "colab": {
      "provenance": [],
      "authorship_tag": "ABX9TyNDdtEwBwpZk9cRGLWLO023",
      "include_colab_link": true
    },
    "kernelspec": {
      "name": "python3",
      "display_name": "Python 3"
    },
    "language_info": {
      "name": "python"
    }
  },
  "cells": [
    {
      "cell_type": "markdown",
      "metadata": {
        "id": "view-in-github",
        "colab_type": "text"
      },
      "source": [
        "<a href=\"https://colab.research.google.com/github/Rupali19-thakur/AIML/blob/main/Password_Generation.ipynb\" target=\"_parent\"><img src=\"https://colab.research.google.com/assets/colab-badge.svg\" alt=\"Open In Colab\"/></a>"
      ]
    },
    {
      "cell_type": "code",
      "execution_count": null,
      "metadata": {
        "colab": {
          "base_uri": "https://localhost:8080/"
        },
        "id": "EO03AG7HI6cJ",
        "outputId": "f5197f9d-a964-4bee-bb25-491386fac3bd"
      },
      "outputs": [
        {
          "output_type": "stream",
          "name": "stdout",
          "text": [
            "🔐 Password Generator\n",
            "Enter password length: 5\n",
            "Include uppercase letters? (y/n): ABC\n",
            "Include lowercase letters? (y/n): cba\n",
            "Include numbers? (y/n): 123\n",
            "Include special characters? (y/n): !@\n",
            "⚠️ No character type selected. Defaulting to all character types.\n",
            "\n",
            "Generated Password: `+;SE\n"
          ]
        }
      ],
      "source": [
        "import random\n",
        "import string\n",
        "\n",
        "def generate_password(length=12, use_upper=True, use_lower=True, use_digits=True, use_special=True):\n",
        "    characters = \"\"\n",
        "    if use_upper:\n",
        "        characters += string.ascii_uppercase\n",
        "    if use_lower:\n",
        "        characters += string.ascii_lowercase\n",
        "    if use_digits:\n",
        "        characters += string.digits\n",
        "    if use_special:\n",
        "        characters += string.punctuation\n",
        "\n",
        "    # Fallback if nothing is selected\n",
        "    if not characters:\n",
        "        print(\"⚠️ No character type selected. Defaulting to all character types.\")\n",
        "        characters = string.ascii_letters + string.digits + string.punctuation\n",
        "\n",
        "    password = ''.join(random.choice(characters) for _ in range(length))\n",
        "    return password\n",
        "\n",
        "# User input example\n",
        "print(\"🔐 Password Generator\")\n",
        "length = int(input(\"Enter password length: \"))\n",
        "use_upper = input(\"Include uppercase letters? (y/n): \").lower() == 'y'\n",
        "use_lower = input(\"Include lowercase letters? (y/n): \").lower() == 'y'\n",
        "use_digits = input(\"Include numbers? (y/n): \").lower() == 'y'\n",
        "use_special = input(\"Include special characters? (y/n): \").lower() == 'y'\n",
        "\n",
        "password = generate_password(length, use_upper, use_lower, use_digits, use_special)\n",
        "print(f\"\\nGenerated Password: {password}\")\n"
      ]
    }
  ]
}