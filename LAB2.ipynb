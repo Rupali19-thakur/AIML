{
  "nbformat": 4,
  "nbformat_minor": 0,
  "metadata": {
    "colab": {
      "provenance": []
    },
    "kernelspec": {
      "name": "python3",
      "display_name": "Python 3"
    },
    "language_info": {
      "name": "python"
    }
  },
  "cells": [
    {
      "cell_type": "code",
      "execution_count": 1,
      "metadata": {
        "colab": {
          "base_uri": "https://localhost:8080/"
        },
        "id": "su6WK-s_kBhF",
        "outputId": "f81f6458-e6b3-4bc1-db79-4454e19fbf7b"
      },
      "outputs": [
        {
          "output_type": "stream",
          "name": "stdout",
          "text": [
            "['B', 'A', 'C', 'D', 'E', 'H', 'G', 'F']\n"
          ]
        }
      ],
      "source": [
        "graph1 = {\n",
        "    'A' : ['B','C','G'],\n",
        "    'B' : ['A'],\n",
        "    'C' : ['A','D','F'],\n",
        "    'D' : ['A','C','E','H'],\n",
        "    'E' : ['D','H','F'],\n",
        "    'F' : ['C','E'],\n",
        "    'G' : ['A','D','H'],\n",
        "    'H' : ['D','E','G'],\n",
        "\n",
        "}\n",
        "\n",
        "def dfs(graph, node, visited):\n",
        "    if node not in visited:\n",
        "        visited.append(node)\n",
        "        for k in graph[node]:\n",
        "            dfs(graph,k, visited)\n",
        "    return visited\n",
        "\n",
        "visited = dfs(graph1,'B', [])\n",
        "print(visited)"
      ]
    }
  ]
}