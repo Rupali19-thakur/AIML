{
  "nbformat": 4,
  "nbformat_minor": 0,
  "metadata": {
    "colab": {
      "provenance": []
    },
    "kernelspec": {
      "name": "python3",
      "display_name": "Python 3"
    },
    "language_info": {
      "name": "python"
    }
  },
  "cells": [
    {
      "cell_type": "code",
      "execution_count": null,
      "metadata": {
        "colab": {
          "base_uri": "https://localhost:8080/"
        },
        "id": "eNZltvu3F0Qf",
        "outputId": "f314f702-e37b-46cd-886a-538eff5dec12"
      },
      "outputs": [
        {
          "output_type": "stream",
          "name": "stdout",
          "text": [
            "<class 'list'>\n",
            "<class 'list'>\n",
            "<class 'numpy.ndarray'>\n",
            "<class 'numpy.ndarray'>\n",
            "multiplication result: [ 5 12 21 32]\n",
            "division result: [0.2        0.33333333 0.42857143 0.5       ]\n",
            "power result: [ 1  4  9 16]\n"
          ]
        }
      ],
      "source": [
        "import numpy as np\n",
        "import pandas as pd\n",
        "\n",
        "\n",
        "Array1 = [1,2,3,4]\n",
        "Array2 = [5,6,7,8]\n",
        "print(type(Array1))\n",
        "print(type(Array2))\n",
        "\n",
        "#arrays from the list\n",
        "\n",
        "array1 = np.array(list1)\n",
        "array2 = np.array(list2)\n",
        "print(type(array1))\n",
        "print(type(array2))\n",
        "\n",
        "# math operations\n",
        "\n",
        "mult_result = array1*array2\n",
        "div_result  = array1/array2\n",
        "power_result = np.power(array1,2)\n",
        "print(\"multiplication result:\",mult_result)\n",
        "print(\"division result:\",div_result)\n",
        "print(\"power result:\",power_result)\n",
        "\n",
        "\n",
        "\n",
        "\n",
        "\n"
      ]
    }
  ]
}